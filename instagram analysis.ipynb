{
 "cells": [
  {
   "cell_type": "code",
   "execution_count": 1,
   "id": "e1a0e440-ff5b-445e-a828-27f52ac33c65",
   "metadata": {},
   "outputs": [],
   "source": [
    "import numpy as np\n",
    "import pandas as pd\n",
    "import matplotlib.pyplot as plt\n",
    "import seaborn as sns"
   ]
  },
  {
   "cell_type": "code",
   "execution_count": 2,
   "id": "44771a9e-9ba0-4b84-b169-01ecf60260b7",
   "metadata": {},
   "outputs": [],
   "source": [
    "#comments\n"
   ]
  },
  {
   "cell_type": "code",
   "execution_count": 3,
   "id": "e1660d88-487b-4619-a423-63379dc4119b",
   "metadata": {},
   "outputs": [
    {
     "data": {
      "text/html": [
       "<div>\n",
       "<style scoped>\n",
       "    .dataframe tbody tr th:only-of-type {\n",
       "        vertical-align: middle;\n",
       "    }\n",
       "\n",
       "    .dataframe tbody tr th {\n",
       "        vertical-align: top;\n",
       "    }\n",
       "\n",
       "    .dataframe thead th {\n",
       "        text-align: right;\n",
       "    }\n",
       "</style>\n",
       "<table border=\"1\" class=\"dataframe\">\n",
       "  <thead>\n",
       "    <tr style=\"text-align: right;\">\n",
       "      <th></th>\n",
       "      <th>id</th>\n",
       "      <th>comment</th>\n",
       "      <th>User  id</th>\n",
       "      <th>Photo id</th>\n",
       "      <th>created Timestamp</th>\n",
       "      <th>posted date</th>\n",
       "      <th>emoji used</th>\n",
       "      <th>Hashtags used count</th>\n",
       "    </tr>\n",
       "  </thead>\n",
       "  <tbody>\n",
       "    <tr>\n",
       "      <th>0</th>\n",
       "      <td>1</td>\n",
       "      <td>unde at dolorem</td>\n",
       "      <td>2</td>\n",
       "      <td>1</td>\n",
       "      <td>13-04-2023 08:04</td>\n",
       "      <td>April 14</td>\n",
       "      <td>yes</td>\n",
       "      <td>1</td>\n",
       "    </tr>\n",
       "    <tr>\n",
       "      <th>1</th>\n",
       "      <td>2</td>\n",
       "      <td>quae ea ducimus</td>\n",
       "      <td>3</td>\n",
       "      <td>1</td>\n",
       "      <td>13-04-2023 08:04</td>\n",
       "      <td>April 14</td>\n",
       "      <td>no</td>\n",
       "      <td>2</td>\n",
       "    </tr>\n",
       "    <tr>\n",
       "      <th>2</th>\n",
       "      <td>3</td>\n",
       "      <td>alias a voluptatum</td>\n",
       "      <td>5</td>\n",
       "      <td>1</td>\n",
       "      <td>13-04-2023 08:04</td>\n",
       "      <td>April 14</td>\n",
       "      <td>no</td>\n",
       "      <td>4</td>\n",
       "    </tr>\n",
       "    <tr>\n",
       "      <th>3</th>\n",
       "      <td>4</td>\n",
       "      <td>facere suscipit sunt</td>\n",
       "      <td>14</td>\n",
       "      <td>1</td>\n",
       "      <td>13-04-2023 08:04</td>\n",
       "      <td>April 14</td>\n",
       "      <td>yes</td>\n",
       "      <td>2</td>\n",
       "    </tr>\n",
       "    <tr>\n",
       "      <th>4</th>\n",
       "      <td>5</td>\n",
       "      <td>totam eligendi quaerat</td>\n",
       "      <td>17</td>\n",
       "      <td>1</td>\n",
       "      <td>13-04-2023 08:04</td>\n",
       "      <td>April 14</td>\n",
       "      <td>yes</td>\n",
       "      <td>1</td>\n",
       "    </tr>\n",
       "    <tr>\n",
       "      <th>...</th>\n",
       "      <td>...</td>\n",
       "      <td>...</td>\n",
       "      <td>...</td>\n",
       "      <td>...</td>\n",
       "      <td>...</td>\n",
       "      <td>...</td>\n",
       "      <td>...</td>\n",
       "      <td>...</td>\n",
       "    </tr>\n",
       "    <tr>\n",
       "      <th>7483</th>\n",
       "      <td>7484</td>\n",
       "      <td>accusamus vel est</td>\n",
       "      <td>82</td>\n",
       "      <td>257</td>\n",
       "      <td>13-04-2023 08:04</td>\n",
       "      <td>April 14</td>\n",
       "      <td>no</td>\n",
       "      <td>5</td>\n",
       "    </tr>\n",
       "    <tr>\n",
       "      <th>7484</th>\n",
       "      <td>7485</td>\n",
       "      <td>sit nulla qui</td>\n",
       "      <td>91</td>\n",
       "      <td>257</td>\n",
       "      <td>13-04-2023 08:04</td>\n",
       "      <td>April 14</td>\n",
       "      <td>no</td>\n",
       "      <td>6</td>\n",
       "    </tr>\n",
       "    <tr>\n",
       "      <th>7485</th>\n",
       "      <td>7486</td>\n",
       "      <td>sed quidem vitae</td>\n",
       "      <td>93</td>\n",
       "      <td>257</td>\n",
       "      <td>13-04-2023 08:04</td>\n",
       "      <td>April 14</td>\n",
       "      <td>yes</td>\n",
       "      <td>2</td>\n",
       "    </tr>\n",
       "    <tr>\n",
       "      <th>7486</th>\n",
       "      <td>7487</td>\n",
       "      <td>dolorem eveniet rerum</td>\n",
       "      <td>95</td>\n",
       "      <td>257</td>\n",
       "      <td>13-04-2023 08:04</td>\n",
       "      <td>April 14</td>\n",
       "      <td>yes</td>\n",
       "      <td>1</td>\n",
       "    </tr>\n",
       "    <tr>\n",
       "      <th>7487</th>\n",
       "      <td>7488</td>\n",
       "      <td>dolores nihil voluptas</td>\n",
       "      <td>96</td>\n",
       "      <td>257</td>\n",
       "      <td>13-04-2023 08:04</td>\n",
       "      <td>April 14</td>\n",
       "      <td>no</td>\n",
       "      <td>3</td>\n",
       "    </tr>\n",
       "  </tbody>\n",
       "</table>\n",
       "<p>7488 rows × 8 columns</p>\n",
       "</div>"
      ],
      "text/plain": [
       "        id                 comment  User  id  Photo id created Timestamp  \\\n",
       "0        1         unde at dolorem         2         1  13-04-2023 08:04   \n",
       "1        2         quae ea ducimus         3         1  13-04-2023 08:04   \n",
       "2        3      alias a voluptatum         5         1  13-04-2023 08:04   \n",
       "3        4    facere suscipit sunt        14         1  13-04-2023 08:04   \n",
       "4        5  totam eligendi quaerat        17         1  13-04-2023 08:04   \n",
       "...    ...                     ...       ...       ...               ...   \n",
       "7483  7484       accusamus vel est        82       257  13-04-2023 08:04   \n",
       "7484  7485           sit nulla qui        91       257  13-04-2023 08:04   \n",
       "7485  7486        sed quidem vitae        93       257  13-04-2023 08:04   \n",
       "7486  7487   dolorem eveniet rerum        95       257  13-04-2023 08:04   \n",
       "7487  7488  dolores nihil voluptas        96       257  13-04-2023 08:04   \n",
       "\n",
       "     posted date emoji used  Hashtags used count  \n",
       "0       April 14        yes                    1  \n",
       "1       April 14         no                    2  \n",
       "2       April 14         no                    4  \n",
       "3       April 14        yes                    2  \n",
       "4       April 14        yes                    1  \n",
       "...          ...        ...                  ...  \n",
       "7483    April 14         no                    5  \n",
       "7484    April 14         no                    6  \n",
       "7485    April 14        yes                    2  \n",
       "7486    April 14        yes                    1  \n",
       "7487    April 14         no                    3  \n",
       "\n",
       "[7488 rows x 8 columns]"
      ]
     },
     "execution_count": 3,
     "metadata": {},
     "output_type": "execute_result"
    }
   ],
   "source": [
    "df_comments = pd.read_csv(r\"C:\\Users\\hp\\Downloads\\comments.csv\")\n",
    "df_comments"
   ]
  },
  {
   "cell_type": "code",
   "execution_count": 4,
   "id": "c4f9b86c-6f44-45d6-bb22-eb4c396f4aa2",
   "metadata": {},
   "outputs": [
    {
     "name": "stdout",
     "output_type": "stream",
     "text": [
      "<class 'pandas.core.frame.DataFrame'>\n",
      "RangeIndex: 7488 entries, 0 to 7487\n",
      "Data columns (total 8 columns):\n",
      " #   Column               Non-Null Count  Dtype \n",
      "---  ------               --------------  ----- \n",
      " 0   id                   7488 non-null   int64 \n",
      " 1   comment              7488 non-null   object\n",
      " 2   User  id             7488 non-null   int64 \n",
      " 3   Photo id             7488 non-null   int64 \n",
      " 4   created Timestamp    7488 non-null   object\n",
      " 5   posted date          7488 non-null   object\n",
      " 6   emoji used           7488 non-null   object\n",
      " 7   Hashtags used count  7488 non-null   int64 \n",
      "dtypes: int64(4), object(4)\n",
      "memory usage: 468.1+ KB\n"
     ]
    }
   ],
   "source": [
    "df_comments.info()\n"
   ]
  },
  {
   "cell_type": "code",
   "execution_count": 5,
   "id": "88a318ad-0284-40e5-b13f-383bdf447ea4",
   "metadata": {},
   "outputs": [
    {
     "data": {
      "text/plain": [
       "id                     0\n",
       "comment                0\n",
       "User  id               0\n",
       "Photo id               0\n",
       "created Timestamp      0\n",
       "posted date            0\n",
       "emoji used             0\n",
       "Hashtags used count    0\n",
       "dtype: int64"
      ]
     },
     "execution_count": 5,
     "metadata": {},
     "output_type": "execute_result"
    }
   ],
   "source": [
    "df_comments.isnull().sum()\n"
   ]
  },
  {
   "cell_type": "code",
   "execution_count": 6,
   "id": "b9e1f4c9-7ab1-4ff6-86ba-062af062f940",
   "metadata": {},
   "outputs": [
    {
     "data": {
      "text/plain": [
       "emoji used\n",
       "yes    3744\n",
       "no     3744\n",
       "Name: count, dtype: int64"
      ]
     },
     "execution_count": 6,
     "metadata": {},
     "output_type": "execute_result"
    }
   ],
   "source": [
    "df_comments[\"emoji used\"].value_counts()\n"
   ]
  },
  {
   "cell_type": "code",
   "execution_count": 7,
   "id": "19747fc0-3309-4fa3-89c3-44e56bdb5700",
   "metadata": {},
   "outputs": [
    {
     "data": {
      "image/png": "[encoded data removed]",
      "text/plain": [
       "<Figure size 640x480 with 1 Axes>"
      ]
     },
     "metadata": {},
     "output_type": "display_data"
    }
   ],
   "source": [
    "import matplotlib.pyplot as plt\n",
    "\n",
    "df_comments['Hashtags used count'].value_counts().plot(kind=\"pie\", autopct='%1.1f%%')\n",
    "plt.show()"
   ]
  },
  {
   "cell_type": "code",
   "execution_count": 8,
   "id": "89c9d7a6-c361-4440-af98-ca59270cef38",
   "metadata": {},
   "outputs": [],
   "source": [
    "# follows\n"
   ]
  },
  {
   "cell_type": "code",
   "execution_count": 9,
   "id": "2e282b17-dde7-4b79-a670-bbf6cbca015d",
   "metadata": {},
   "outputs": [
    {
     "data": {
      "text/html": [
       "<div>\n",
       "<style scoped>\n",
       "    .dataframe tbody tr th:only-of-type {\n",
       "        vertical-align: middle;\n",
       "    }\n",
       "\n",
       "    .dataframe tbody tr th {\n",
       "        vertical-align: top;\n",
       "    }\n",
       "\n",
       "    .dataframe thead th {\n",
       "        text-align: right;\n",
       "    }\n",
       "</style>\n",
       "<table border=\"1\" class=\"dataframe\">\n",
       "  <thead>\n",
       "    <tr style=\"text-align: right;\">\n",
       "      <th></th>\n",
       "      <th>follower</th>\n",
       "      <th>followee</th>\n",
       "      <th>created time</th>\n",
       "      <th>is follower active</th>\n",
       "      <th>followee Acc status</th>\n",
       "    </tr>\n",
       "  </thead>\n",
       "  <tbody>\n",
       "    <tr>\n",
       "      <th>0</th>\n",
       "      <td>2</td>\n",
       "      <td>1</td>\n",
       "      <td>13-04-2023 08:04</td>\n",
       "      <td>1</td>\n",
       "      <td>Private</td>\n",
       "    </tr>\n",
       "    <tr>\n",
       "      <th>1</th>\n",
       "      <td>2</td>\n",
       "      <td>3</td>\n",
       "      <td>13-04-2023 08:04</td>\n",
       "      <td>0</td>\n",
       "      <td>private</td>\n",
       "    </tr>\n",
       "    <tr>\n",
       "      <th>2</th>\n",
       "      <td>2</td>\n",
       "      <td>4</td>\n",
       "      <td>13-04-2023 08:04</td>\n",
       "      <td>0</td>\n",
       "      <td>public</td>\n",
       "    </tr>\n",
       "    <tr>\n",
       "      <th>3</th>\n",
       "      <td>2</td>\n",
       "      <td>5</td>\n",
       "      <td>13-04-2023 08:04</td>\n",
       "      <td>0</td>\n",
       "      <td>private</td>\n",
       "    </tr>\n",
       "    <tr>\n",
       "      <th>4</th>\n",
       "      <td>2</td>\n",
       "      <td>6</td>\n",
       "      <td>13-04-2023 08:04</td>\n",
       "      <td>1</td>\n",
       "      <td>private</td>\n",
       "    </tr>\n",
       "    <tr>\n",
       "      <th>...</th>\n",
       "      <td>...</td>\n",
       "      <td>...</td>\n",
       "      <td>...</td>\n",
       "      <td>...</td>\n",
       "      <td>...</td>\n",
       "    </tr>\n",
       "    <tr>\n",
       "      <th>7618</th>\n",
       "      <td>100</td>\n",
       "      <td>95</td>\n",
       "      <td>13-04-2023 08:04</td>\n",
       "      <td>1</td>\n",
       "      <td>public</td>\n",
       "    </tr>\n",
       "    <tr>\n",
       "      <th>7619</th>\n",
       "      <td>100</td>\n",
       "      <td>96</td>\n",
       "      <td>13-04-2023 08:04</td>\n",
       "      <td>1</td>\n",
       "      <td>Private</td>\n",
       "    </tr>\n",
       "    <tr>\n",
       "      <th>7620</th>\n",
       "      <td>100</td>\n",
       "      <td>97</td>\n",
       "      <td>13-04-2023 08:04</td>\n",
       "      <td>1</td>\n",
       "      <td>private</td>\n",
       "    </tr>\n",
       "    <tr>\n",
       "      <th>7621</th>\n",
       "      <td>100</td>\n",
       "      <td>98</td>\n",
       "      <td>13-04-2023 08:04</td>\n",
       "      <td>1</td>\n",
       "      <td>public</td>\n",
       "    </tr>\n",
       "    <tr>\n",
       "      <th>7622</th>\n",
       "      <td>100</td>\n",
       "      <td>99</td>\n",
       "      <td>13-04-2023 08:04</td>\n",
       "      <td>1</td>\n",
       "      <td>private</td>\n",
       "    </tr>\n",
       "  </tbody>\n",
       "</table>\n",
       "<p>7623 rows × 5 columns</p>\n",
       "</div>"
      ],
      "text/plain": [
       "      follower  followee       created time  is follower active  \\\n",
       "0            2          1  13-04-2023 08:04                   1   \n",
       "1            2          3  13-04-2023 08:04                   0   \n",
       "2            2          4  13-04-2023 08:04                   0   \n",
       "3            2          5  13-04-2023 08:04                   0   \n",
       "4            2          6  13-04-2023 08:04                   1   \n",
       "...        ...        ...               ...                 ...   \n",
       "7618       100         95  13-04-2023 08:04                   1   \n",
       "7619       100         96  13-04-2023 08:04                   1   \n",
       "7620       100         97  13-04-2023 08:04                   1   \n",
       "7621       100         98  13-04-2023 08:04                   1   \n",
       "7622       100         99  13-04-2023 08:04                   1   \n",
       "\n",
       "     followee Acc status  \n",
       "0                Private  \n",
       "1                private  \n",
       "2                 public  \n",
       "3                private  \n",
       "4                private  \n",
       "...                  ...  \n",
       "7618              public  \n",
       "7619             Private  \n",
       "7620             private  \n",
       "7621              public  \n",
       "7622             private  \n",
       "\n",
       "[7623 rows x 5 columns]"
      ]
     },
     "execution_count": 9,
     "metadata": {},
     "output_type": "execute_result"
    }
   ],
   "source": [
    "df_follows = pd.read_csv(r\"C:\\Users\\hp\\Downloads\\follows.csv\")\n",
    "df_follows"
   ]
  },
  {
   "cell_type": "code",
   "execution_count": 10,
   "id": "d9c6b31d-fb24-4d53-b600-93e3aafdc1bf",
   "metadata": {},
   "outputs": [
    {
     "data": {
      "text/plain": [
       "follower               0\n",
       "followee               0\n",
       "created time           0\n",
       "is follower active     0\n",
       "followee Acc status    0\n",
       "dtype: int64"
      ]
     },
     "execution_count": 10,
     "metadata": {},
     "output_type": "execute_result"
    }
   ],
   "source": [
    "df_follows.isnull().sum()\n"
   ]
  },
  {
   "cell_type": "code",
   "execution_count": 11,
   "id": "5a2c94cc-c095-4d5a-8e9f-96a5f6c9e32a",
   "metadata": {},
   "outputs": [
    {
     "data": {
      "text/plain": [
       "is follower active\n",
       "1    4197\n",
       "0    3426\n",
       "Name: count, dtype: int64"
      ]
     },
     "execution_count": 11,
     "metadata": {},
     "output_type": "execute_result"
    }
   ],
   "source": [
    "df_follows[\"is follower active\"].value_counts()\n"
   ]
  },
  {
   "cell_type": "code",
   "execution_count": 12,
   "id": "41e304f0-5a82-4b24-afa5-1ab4d728ac1e",
   "metadata": {},
   "outputs": [
    {
     "data": {
      "text/plain": [
       "followee Acc status\n",
       "public     3054\n",
       "private    3049\n",
       "Private    1520\n",
       "Name: count, dtype: int64"
      ]
     },
     "execution_count": 12,
     "metadata": {},
     "output_type": "execute_result"
    }
   ],
   "source": [
    "df_follows[\"followee Acc status\"].value_counts()\n"
   ]
  },
  {
   "cell_type": "code",
   "execution_count": 13,
   "id": "ab9e7e86-d4cf-4569-ba17-d6d21c8a4d73",
   "metadata": {},
   "outputs": [
    {
     "data": {
      "text/html": [
       "<div>\n",
       "<style scoped>\n",
       "    .dataframe tbody tr th:only-of-type {\n",
       "        vertical-align: middle;\n",
       "    }\n",
       "\n",
       "    .dataframe tbody tr th {\n",
       "        vertical-align: top;\n",
       "    }\n",
       "\n",
       "    .dataframe thead th {\n",
       "        text-align: right;\n",
       "    }\n",
       "</style>\n",
       "<table border=\"1\" class=\"dataframe\">\n",
       "  <thead>\n",
       "    <tr style=\"text-align: right;\">\n",
       "      <th></th>\n",
       "      <th>follower</th>\n",
       "      <th>followee</th>\n",
       "      <th>created time</th>\n",
       "      <th>is follower active</th>\n",
       "      <th>followee Acc status</th>\n",
       "    </tr>\n",
       "  </thead>\n",
       "  <tbody>\n",
       "    <tr>\n",
       "      <th>0</th>\n",
       "      <td>2</td>\n",
       "      <td>1</td>\n",
       "      <td>13-04-2023 08:04</td>\n",
       "      <td>1</td>\n",
       "      <td>private</td>\n",
       "    </tr>\n",
       "    <tr>\n",
       "      <th>1</th>\n",
       "      <td>2</td>\n",
       "      <td>3</td>\n",
       "      <td>13-04-2023 08:04</td>\n",
       "      <td>0</td>\n",
       "      <td>private</td>\n",
       "    </tr>\n",
       "    <tr>\n",
       "      <th>2</th>\n",
       "      <td>2</td>\n",
       "      <td>4</td>\n",
       "      <td>13-04-2023 08:04</td>\n",
       "      <td>0</td>\n",
       "      <td>public</td>\n",
       "    </tr>\n",
       "    <tr>\n",
       "      <th>3</th>\n",
       "      <td>2</td>\n",
       "      <td>5</td>\n",
       "      <td>13-04-2023 08:04</td>\n",
       "      <td>0</td>\n",
       "      <td>private</td>\n",
       "    </tr>\n",
       "    <tr>\n",
       "      <th>4</th>\n",
       "      <td>2</td>\n",
       "      <td>6</td>\n",
       "      <td>13-04-2023 08:04</td>\n",
       "      <td>1</td>\n",
       "      <td>private</td>\n",
       "    </tr>\n",
       "    <tr>\n",
       "      <th>...</th>\n",
       "      <td>...</td>\n",
       "      <td>...</td>\n",
       "      <td>...</td>\n",
       "      <td>...</td>\n",
       "      <td>...</td>\n",
       "    </tr>\n",
       "    <tr>\n",
       "      <th>7618</th>\n",
       "      <td>100</td>\n",
       "      <td>95</td>\n",
       "      <td>13-04-2023 08:04</td>\n",
       "      <td>1</td>\n",
       "      <td>public</td>\n",
       "    </tr>\n",
       "    <tr>\n",
       "      <th>7619</th>\n",
       "      <td>100</td>\n",
       "      <td>96</td>\n",
       "      <td>13-04-2023 08:04</td>\n",
       "      <td>1</td>\n",
       "      <td>private</td>\n",
       "    </tr>\n",
       "    <tr>\n",
       "      <th>7620</th>\n",
       "      <td>100</td>\n",
       "      <td>97</td>\n",
       "      <td>13-04-2023 08:04</td>\n",
       "      <td>1</td>\n",
       "      <td>private</td>\n",
       "    </tr>\n",
       "    <tr>\n",
       "      <th>7621</th>\n",
       "      <td>100</td>\n",
       "      <td>98</td>\n",
       "      <td>13-04-2023 08:04</td>\n",
       "      <td>1</td>\n",
       "      <td>public</td>\n",
       "    </tr>\n",
       "    <tr>\n",
       "      <th>7622</th>\n",
       "      <td>100</td>\n",
       "      <td>99</td>\n",
       "      <td>13-04-2023 08:04</td>\n",
       "      <td>1</td>\n",
       "      <td>private</td>\n",
       "    </tr>\n",
       "  </tbody>\n",
       "</table>\n",
       "<p>7623 rows × 5 columns</p>\n",
       "</div>"
      ],
      "text/plain": [
       "      follower  followee       created time  is follower active  \\\n",
       "0            2          1  13-04-2023 08:04                   1   \n",
       "1            2          3  13-04-2023 08:04                   0   \n",
       "2            2          4  13-04-2023 08:04                   0   \n",
       "3            2          5  13-04-2023 08:04                   0   \n",
       "4            2          6  13-04-2023 08:04                   1   \n",
       "...        ...        ...               ...                 ...   \n",
       "7618       100         95  13-04-2023 08:04                   1   \n",
       "7619       100         96  13-04-2023 08:04                   1   \n",
       "7620       100         97  13-04-2023 08:04                   1   \n",
       "7621       100         98  13-04-2023 08:04                   1   \n",
       "7622       100         99  13-04-2023 08:04                   1   \n",
       "\n",
       "     followee Acc status  \n",
       "0                private  \n",
       "1                private  \n",
       "2                 public  \n",
       "3                private  \n",
       "4                private  \n",
       "...                  ...  \n",
       "7618              public  \n",
       "7619             private  \n",
       "7620             private  \n",
       "7621              public  \n",
       "7622             private  \n",
       "\n",
       "[7623 rows x 5 columns]"
      ]
     },
     "execution_count": 13,
     "metadata": {},
     "output_type": "execute_result"
    }
   ],
   "source": [
    "df_follows = df_follows.replace(\"Private\", \"private\")\n",
    "df_follows"
   ]
  },
  {
   "cell_type": "code",
   "execution_count": 14,
   "id": "32701a2e-f97b-496f-bb0d-6127f75a0dd4",
   "metadata": {},
   "outputs": [
    {
     "data": {
      "image/png": "[encoded data removed]",
      "text/plain": [
       "<Figure size 640x480 with 1 Axes>"
      ]
     },
     "metadata": {},
     "output_type": "display_data"
    }
   ],
   "source": [
    "df_follows[\"followee Acc status\"].value_counts().plot(kind=\"bar\")\n",
    "plt.show()"
   ]
  },
  {
   "cell_type": "code",
   "execution_count": 15,
   "id": "769b1233-1a38-4b6b-827f-a470ff94dcc1",
   "metadata": {},
   "outputs": [
    {
     "data": {
      "text/html": [
       "<div>\n",
       "<style scoped>\n",
       "    .dataframe tbody tr th:only-of-type {\n",
       "        vertical-align: middle;\n",
       "    }\n",
       "\n",
       "    .dataframe tbody tr th {\n",
       "        vertical-align: top;\n",
       "    }\n",
       "\n",
       "    .dataframe thead th {\n",
       "        text-align: right;\n",
       "    }\n",
       "</style>\n",
       "<table border=\"1\" class=\"dataframe\">\n",
       "  <thead>\n",
       "    <tr style=\"text-align: right;\">\n",
       "      <th></th>\n",
       "      <th>user</th>\n",
       "      <th>photo</th>\n",
       "      <th>created time</th>\n",
       "      <th>following or not</th>\n",
       "      <th>like type</th>\n",
       "    </tr>\n",
       "  </thead>\n",
       "  <tbody>\n",
       "    <tr>\n",
       "      <th>0</th>\n",
       "      <td>2</td>\n",
       "      <td>1</td>\n",
       "      <td>13-04-2023 08:04</td>\n",
       "      <td>yes</td>\n",
       "      <td>heart emoji</td>\n",
       "    </tr>\n",
       "    <tr>\n",
       "      <th>1</th>\n",
       "      <td>2</td>\n",
       "      <td>4</td>\n",
       "      <td>13-04-2023 08:04</td>\n",
       "      <td>no</td>\n",
       "      <td>thumbs up</td>\n",
       "    </tr>\n",
       "    <tr>\n",
       "      <th>2</th>\n",
       "      <td>2</td>\n",
       "      <td>8</td>\n",
       "      <td>13-04-2023 08:04</td>\n",
       "      <td>yes</td>\n",
       "      <td>laughing</td>\n",
       "    </tr>\n",
       "    <tr>\n",
       "      <th>3</th>\n",
       "      <td>2</td>\n",
       "      <td>9</td>\n",
       "      <td>13-04-2023 08:04</td>\n",
       "      <td>no</td>\n",
       "      <td>fire</td>\n",
       "    </tr>\n",
       "    <tr>\n",
       "      <th>4</th>\n",
       "      <td>2</td>\n",
       "      <td>10</td>\n",
       "      <td>13-04-2023 08:04</td>\n",
       "      <td>yes</td>\n",
       "      <td>clap</td>\n",
       "    </tr>\n",
       "    <tr>\n",
       "      <th>...</th>\n",
       "      <td>...</td>\n",
       "      <td>...</td>\n",
       "      <td>...</td>\n",
       "      <td>...</td>\n",
       "      <td>...</td>\n",
       "    </tr>\n",
       "    <tr>\n",
       "      <th>8777</th>\n",
       "      <td>100</td>\n",
       "      <td>245</td>\n",
       "      <td>13-04-2023 08:04</td>\n",
       "      <td>no</td>\n",
       "      <td>clap</td>\n",
       "    </tr>\n",
       "    <tr>\n",
       "      <th>8778</th>\n",
       "      <td>100</td>\n",
       "      <td>246</td>\n",
       "      <td>13-04-2023 08:04</td>\n",
       "      <td>yes</td>\n",
       "      <td>heart emoji</td>\n",
       "    </tr>\n",
       "    <tr>\n",
       "      <th>8779</th>\n",
       "      <td>100</td>\n",
       "      <td>248</td>\n",
       "      <td>13-04-2023 08:04</td>\n",
       "      <td>yes</td>\n",
       "      <td>thumbs up</td>\n",
       "    </tr>\n",
       "    <tr>\n",
       "      <th>8780</th>\n",
       "      <td>100</td>\n",
       "      <td>249</td>\n",
       "      <td>13-04-2023 08:04</td>\n",
       "      <td>no</td>\n",
       "      <td>laughing</td>\n",
       "    </tr>\n",
       "    <tr>\n",
       "      <th>8781</th>\n",
       "      <td>100</td>\n",
       "      <td>255</td>\n",
       "      <td>13-04-2023 08:04</td>\n",
       "      <td>yes</td>\n",
       "      <td>fire</td>\n",
       "    </tr>\n",
       "  </tbody>\n",
       "</table>\n",
       "<p>8782 rows × 5 columns</p>\n",
       "</div>"
      ],
      "text/plain": [
       "      user   photo      created time following or not    like type\n",
       "0         2      1  13-04-2023 08:04              yes  heart emoji\n",
       "1         2      4  13-04-2023 08:04               no    thumbs up\n",
       "2         2      8  13-04-2023 08:04              yes     laughing\n",
       "3         2      9  13-04-2023 08:04               no         fire\n",
       "4         2     10  13-04-2023 08:04              yes         clap\n",
       "...     ...    ...               ...              ...          ...\n",
       "8777    100    245  13-04-2023 08:04               no         clap\n",
       "8778    100    246  13-04-2023 08:04              yes  heart emoji\n",
       "8779    100    248  13-04-2023 08:04              yes    thumbs up\n",
       "8780    100    249  13-04-2023 08:04               no     laughing\n",
       "8781    100    255  13-04-2023 08:04              yes         fire\n",
       "\n",
       "[8782 rows x 5 columns]"
      ]
     },
     "execution_count": 15,
     "metadata": {},
     "output_type": "execute_result"
    }
   ],
   "source": [
    "df_likes = pd.read_csv(r\"C:\\Users\\hp\\Downloads\\likes.csv\")\n",
    "df_likes"
   ]
  },
  {
   "cell_type": "code",
   "execution_count": 16,
   "id": "12891783-1d65-489a-b9f2-f238bd61c672",
   "metadata": {},
   "outputs": [
    {
     "data": {
      "text/plain": [
       "user                0\n",
       "photo               0\n",
       "created time        0\n",
       "following or not    0\n",
       "like type           0\n",
       "dtype: int64"
      ]
     },
     "execution_count": 16,
     "metadata": {},
     "output_type": "execute_result"
    }
   ],
   "source": [
    "df_likes.isnull().sum()\n"
   ]
  },
  {
   "cell_type": "code",
   "execution_count": 17,
   "id": "32206e87-c84e-4e8a-8333-1fd481faec58",
   "metadata": {},
   "outputs": [
    {
     "data": {
      "text/plain": [
       "np.int64(0)"
      ]
     },
     "execution_count": 17,
     "metadata": {},
     "output_type": "execute_result"
    }
   ],
   "source": [
    "df_likes.duplicated().sum()\n"
   ]
  },
  {
   "cell_type": "code",
   "execution_count": 18,
   "id": "8faa82cc-9120-414a-95ed-0c6e44e54400",
   "metadata": {},
   "outputs": [
    {
     "data": {
      "image/png": "[encoded data removed]",
      "text/plain": [
       "<Figure size 640x480 with 1 Axes>"
      ]
     },
     "metadata": {},
     "output_type": "display_data"
    }
   ],
   "source": [
    "df_likes[\"following or not\"].value_counts().plot(kind=\"bar\", xlabel=\"Following or not\", ylabel=\"Count\")\n",
    "plt.show()"
   ]
  },
  {
   "cell_type": "code",
   "execution_count": 19,
   "id": "82f88ec6-296a-4f08-a4e5-6c792331c1db",
   "metadata": {},
   "outputs": [
    {
     "data": {
      "text/plain": [
       "like type\n",
       "clap           1754\n",
       "thumbs up      1751\n",
       "heart emoji    1751\n",
       "laughing       1751\n",
       "fire           1751\n",
       "single tap       12\n",
       "double tap       12\n",
       "Name: count, dtype: int64"
      ]
     },
     "execution_count": 19,
     "metadata": {},
     "output_type": "execute_result"
    }
   ],
   "source": [
    "df_likes[\"like type\"].value_counts()\n"
   ]
  },
  {
   "cell_type": "code",
   "execution_count": 20,
   "id": "04594f6f-2b63-49d8-abee-d55754d30733",
   "metadata": {},
   "outputs": [
    {
     "data": {
      "image/png": "[encoded data removed]",
      "text/plain": [
       "<Figure size 640x480 with 1 Axes>"
      ]
     },
     "metadata": {},
     "output_type": "display_data"
    }
   ],
   "source": [
    "df_likes[\"like type\"].value_counts().plot(kind=\"bar\", xlabel = \"Like type\", ylabel=\"Count\")\n",
    "plt.show()"
   ]
  },
  {
   "cell_type": "code",
   "execution_count": 21,
   "id": "1897a87d-99f6-4c21-9a13-635ac4a77ab4",
   "metadata": {},
   "outputs": [],
   "source": [
    "#users\n"
   ]
  },
  {
   "cell_type": "code",
   "execution_count": 23,
   "id": "e820ec2e-f4af-45b8-830c-a4a4a8c040bb",
   "metadata": {},
   "outputs": [
    {
     "data": {
      "text/html": [
       "<div>\n",
       "<style scoped>\n",
       "    .dataframe tbody tr th:only-of-type {\n",
       "        vertical-align: middle;\n",
       "    }\n",
       "\n",
       "    .dataframe tbody tr th {\n",
       "        vertical-align: top;\n",
       "    }\n",
       "\n",
       "    .dataframe thead th {\n",
       "        text-align: right;\n",
       "    }\n",
       "</style>\n",
       "<table border=\"1\" class=\"dataframe\">\n",
       "  <thead>\n",
       "    <tr style=\"text-align: right;\">\n",
       "      <th></th>\n",
       "      <th>id</th>\n",
       "      <th>name</th>\n",
       "      <th>created time</th>\n",
       "      <th>private/public</th>\n",
       "      <th>post count</th>\n",
       "      <th>Verified status</th>\n",
       "    </tr>\n",
       "  </thead>\n",
       "  <tbody>\n",
       "    <tr>\n",
       "      <th>0</th>\n",
       "      <td>1</td>\n",
       "      <td>Kenton_Kirlin</td>\n",
       "      <td>16-02-2017 18:22</td>\n",
       "      <td>yes</td>\n",
       "      <td>11</td>\n",
       "      <td>no</td>\n",
       "    </tr>\n",
       "    <tr>\n",
       "      <th>1</th>\n",
       "      <td>2</td>\n",
       "      <td>Andre_Purdy85</td>\n",
       "      <td>02-04-2017 17:11</td>\n",
       "      <td>no</td>\n",
       "      <td>7</td>\n",
       "      <td>no</td>\n",
       "    </tr>\n",
       "    <tr>\n",
       "      <th>2</th>\n",
       "      <td>3</td>\n",
       "      <td>Harley_Lind18</td>\n",
       "      <td>21-02-2017 11:12</td>\n",
       "      <td>no</td>\n",
       "      <td>2</td>\n",
       "      <td>no</td>\n",
       "    </tr>\n",
       "    <tr>\n",
       "      <th>3</th>\n",
       "      <td>4</td>\n",
       "      <td>Arely_Bogan63</td>\n",
       "      <td>13-08-2016 01:28</td>\n",
       "      <td>yes</td>\n",
       "      <td>1</td>\n",
       "      <td>no</td>\n",
       "    </tr>\n",
       "    <tr>\n",
       "      <th>4</th>\n",
       "      <td>5</td>\n",
       "      <td>Aniya_Hackett</td>\n",
       "      <td>07-12-2016 01:04</td>\n",
       "      <td>yes</td>\n",
       "      <td>3</td>\n",
       "      <td>no</td>\n",
       "    </tr>\n",
       "    <tr>\n",
       "      <th>...</th>\n",
       "      <td>...</td>\n",
       "      <td>...</td>\n",
       "      <td>...</td>\n",
       "      <td>...</td>\n",
       "      <td>...</td>\n",
       "      <td>...</td>\n",
       "    </tr>\n",
       "    <tr>\n",
       "      <th>95</th>\n",
       "      <td>96</td>\n",
       "      <td>Keenan.Schamberger60</td>\n",
       "      <td>28-08-2016 14:57</td>\n",
       "      <td>yes</td>\n",
       "      <td>687</td>\n",
       "      <td>no</td>\n",
       "    </tr>\n",
       "    <tr>\n",
       "      <th>96</th>\n",
       "      <td>97</td>\n",
       "      <td>Tomas.Beatty93</td>\n",
       "      <td>11-02-2017 11:38</td>\n",
       "      <td>yes</td>\n",
       "      <td>92</td>\n",
       "      <td>no</td>\n",
       "    </tr>\n",
       "    <tr>\n",
       "      <th>97</th>\n",
       "      <td>98</td>\n",
       "      <td>Imani_Nicolas17</td>\n",
       "      <td>31-01-2017 22:59</td>\n",
       "      <td>no</td>\n",
       "      <td>123</td>\n",
       "      <td>no</td>\n",
       "    </tr>\n",
       "    <tr>\n",
       "      <th>98</th>\n",
       "      <td>99</td>\n",
       "      <td>Alek_Watsica</td>\n",
       "      <td>10-12-2016 07:43</td>\n",
       "      <td>no</td>\n",
       "      <td>232</td>\n",
       "      <td>no</td>\n",
       "    </tr>\n",
       "    <tr>\n",
       "      <th>99</th>\n",
       "      <td>100</td>\n",
       "      <td>Javonte83</td>\n",
       "      <td>27-03-2017 22:06</td>\n",
       "      <td>yes</td>\n",
       "      <td>32</td>\n",
       "      <td>yes</td>\n",
       "    </tr>\n",
       "  </tbody>\n",
       "</table>\n",
       "<p>100 rows × 6 columns</p>\n",
       "</div>"
      ],
      "text/plain": [
       "     id                  name      created time private/public  post count  \\\n",
       "0     1         Kenton_Kirlin  16-02-2017 18:22            yes          11   \n",
       "1     2         Andre_Purdy85  02-04-2017 17:11             no           7   \n",
       "2     3         Harley_Lind18  21-02-2017 11:12             no           2   \n",
       "3     4         Arely_Bogan63  13-08-2016 01:28            yes           1   \n",
       "4     5         Aniya_Hackett  07-12-2016 01:04            yes           3   \n",
       "..  ...                   ...               ...            ...         ...   \n",
       "95   96  Keenan.Schamberger60  28-08-2016 14:57            yes         687   \n",
       "96   97        Tomas.Beatty93  11-02-2017 11:38            yes          92   \n",
       "97   98       Imani_Nicolas17  31-01-2017 22:59             no         123   \n",
       "98   99          Alek_Watsica  10-12-2016 07:43             no         232   \n",
       "99  100             Javonte83  27-03-2017 22:06            yes          32   \n",
       "\n",
       "   Verified status  \n",
       "0               no  \n",
       "1               no  \n",
       "2               no  \n",
       "3               no  \n",
       "4               no  \n",
       "..             ...  \n",
       "95              no  \n",
       "96              no  \n",
       "97              no  \n",
       "98              no  \n",
       "99             yes  \n",
       "\n",
       "[100 rows x 6 columns]"
      ]
     },
     "execution_count": 23,
     "metadata": {},
     "output_type": "execute_result"
    }
   ],
   "source": [
    "df_users = pd.read_csv(r\"C:\\Users\\hp\\Downloads\\users.csv\")\n",
    "df_users"
   ]
  },
  {
   "cell_type": "code",
   "execution_count": 24,
   "id": "8ceffdf7-9468-4beb-898e-4257447a58e3",
   "metadata": {},
   "outputs": [
    {
     "data": {
      "text/plain": [
       "private/public\n",
       "yes    50\n",
       "no     50\n",
       "Name: count, dtype: int64"
      ]
     },
     "execution_count": 24,
     "metadata": {},
     "output_type": "execute_result"
    }
   ],
   "source": [
    "df_users[\"private/public\"].value_counts()\n"
   ]
  },
  {
   "cell_type": "code",
   "execution_count": 25,
   "id": "8972d481-3be2-403e-bdf5-0b72b830b3e5",
   "metadata": {},
   "outputs": [
    {
     "data": {
      "text/plain": [
       "np.int64(2400)"
      ]
     },
     "execution_count": 25,
     "metadata": {},
     "output_type": "execute_result"
    }
   ],
   "source": [
    "df_users[\"post count\"].max()\n"
   ]
  },
  {
   "cell_type": "code",
   "execution_count": 26,
   "id": "e4ab0f10-fc38-456c-801d-482059bf1868",
   "metadata": {},
   "outputs": [
    {
     "data": {
      "image/png": "[encoded data removed]",
      "text/plain": [
       "<Figure size 640x480 with 1 Axes>"
      ]
     },
     "metadata": {},
     "output_type": "display_data"
    }
   ],
   "source": [
    "plt.hist(df_users[\"post count\"], range = [10, 2500])\n",
    "plt.xlabel(\"Post count\")\n",
    "plt.ylabel(\"Count\")\n",
    "plt.show()\n"
   ]
  },
  {
   "cell_type": "code",
   "execution_count": 27,
   "id": "c72c6a3e-14b1-46d6-882c-11ffd8eb8916",
   "metadata": {},
   "outputs": [
    {
     "data": {
      "text/plain": [
       "Verified status\n",
       "no     92\n",
       "yes     8\n",
       "Name: count, dtype: int64"
      ]
     },
     "execution_count": 27,
     "metadata": {},
     "output_type": "execute_result"
    }
   ],
   "source": [
    "df_users[\"Verified status\"].value_counts()\n"
   ]
  },
  {
   "cell_type": "raw",
   "id": "051830ed-112f-4e34-a5c7-d2f04e0d48c8",
   "metadata": {},
   "source": [
    "Most users don't have a verified status.\n"
   ]
  },
  {
   "cell_type": "code",
   "execution_count": 28,
   "id": "45f652e7-6698-4586-8895-c16a6e62d22c",
   "metadata": {},
   "outputs": [],
   "source": [
    "# tags \n"
   ]
  },
  {
   "cell_type": "code",
   "execution_count": 29,
   "id": "bf04f858-7151-4a9b-a6b8-b8ee8bb9966a",
   "metadata": {},
   "outputs": [
    {
     "data": {
      "text/html": [
       "<div>\n",
       "<style scoped>\n",
       "    .dataframe tbody tr th:only-of-type {\n",
       "        vertical-align: middle;\n",
       "    }\n",
       "\n",
       "    .dataframe tbody tr th {\n",
       "        vertical-align: top;\n",
       "    }\n",
       "\n",
       "    .dataframe thead th {\n",
       "        text-align: right;\n",
       "    }\n",
       "</style>\n",
       "<table border=\"1\" class=\"dataframe\">\n",
       "  <thead>\n",
       "    <tr style=\"text-align: right;\">\n",
       "      <th></th>\n",
       "      <th>photo</th>\n",
       "      <th>tag ID</th>\n",
       "      <th>user id</th>\n",
       "    </tr>\n",
       "  </thead>\n",
       "  <tbody>\n",
       "    <tr>\n",
       "      <th>0</th>\n",
       "      <td>1</td>\n",
       "      <td>13</td>\n",
       "      <td>1</td>\n",
       "    </tr>\n",
       "    <tr>\n",
       "      <th>1</th>\n",
       "      <td>1</td>\n",
       "      <td>17</td>\n",
       "      <td>1</td>\n",
       "    </tr>\n",
       "    <tr>\n",
       "      <th>2</th>\n",
       "      <td>1</td>\n",
       "      <td>18</td>\n",
       "      <td>2</td>\n",
       "    </tr>\n",
       "    <tr>\n",
       "      <th>3</th>\n",
       "      <td>1</td>\n",
       "      <td>19</td>\n",
       "      <td>2</td>\n",
       "    </tr>\n",
       "    <tr>\n",
       "      <th>4</th>\n",
       "      <td>1</td>\n",
       "      <td>21</td>\n",
       "      <td>3</td>\n",
       "    </tr>\n",
       "    <tr>\n",
       "      <th>...</th>\n",
       "      <td>...</td>\n",
       "      <td>...</td>\n",
       "      <td>...</td>\n",
       "    </tr>\n",
       "    <tr>\n",
       "      <th>496</th>\n",
       "      <td>254</td>\n",
       "      <td>4</td>\n",
       "      <td>6</td>\n",
       "    </tr>\n",
       "    <tr>\n",
       "      <th>497</th>\n",
       "      <td>254</td>\n",
       "      <td>20</td>\n",
       "      <td>6</td>\n",
       "    </tr>\n",
       "    <tr>\n",
       "      <th>498</th>\n",
       "      <td>257</td>\n",
       "      <td>13</td>\n",
       "      <td>6</td>\n",
       "    </tr>\n",
       "    <tr>\n",
       "      <th>499</th>\n",
       "      <td>257</td>\n",
       "      <td>18</td>\n",
       "      <td>6</td>\n",
       "    </tr>\n",
       "    <tr>\n",
       "      <th>500</th>\n",
       "      <td>257</td>\n",
       "      <td>19</td>\n",
       "      <td>6</td>\n",
       "    </tr>\n",
       "  </tbody>\n",
       "</table>\n",
       "<p>501 rows × 3 columns</p>\n",
       "</div>"
      ],
      "text/plain": [
       "     photo  tag ID  user id\n",
       "0        1      13        1\n",
       "1        1      17        1\n",
       "2        1      18        2\n",
       "3        1      19        2\n",
       "4        1      21        3\n",
       "..     ...     ...      ...\n",
       "496    254       4        6\n",
       "497    254      20        6\n",
       "498    257      13        6\n",
       "499    257      18        6\n",
       "500    257      19        6\n",
       "\n",
       "[501 rows x 3 columns]"
      ]
     },
     "execution_count": 29,
     "metadata": {},
     "output_type": "execute_result"
    }
   ],
   "source": [
    "df_tags = pd.read_csv(r\"C:\\Users\\hp\\Downloads\\photo_tags.csv\")\n",
    "df_tags"
   ]
  },
  {
   "cell_type": "code",
   "execution_count": 30,
   "id": "0e2c910b-5b33-482c-978f-454226282420",
   "metadata": {},
   "outputs": [],
   "source": [
    "#photos\n"
   ]
  },
  {
   "cell_type": "code",
   "execution_count": 31,
   "id": "dd2e2c46-cff8-401e-b66a-49a85153bce2",
   "metadata": {},
   "outputs": [
    {
     "data": {
      "text/html": [
       "<div>\n",
       "<style scoped>\n",
       "    .dataframe tbody tr th:only-of-type {\n",
       "        vertical-align: middle;\n",
       "    }\n",
       "\n",
       "    .dataframe tbody tr th {\n",
       "        vertical-align: top;\n",
       "    }\n",
       "\n",
       "    .dataframe thead th {\n",
       "        text-align: right;\n",
       "    }\n",
       "</style>\n",
       "<table border=\"1\" class=\"dataframe\">\n",
       "  <thead>\n",
       "    <tr style=\"text-align: right;\">\n",
       "      <th></th>\n",
       "      <th>id</th>\n",
       "      <th>image link</th>\n",
       "      <th>user ID</th>\n",
       "      <th>created dat</th>\n",
       "      <th>Insta filter used</th>\n",
       "      <th>photo type</th>\n",
       "    </tr>\n",
       "  </thead>\n",
       "  <tbody>\n",
       "    <tr>\n",
       "      <th>0</th>\n",
       "      <td>1</td>\n",
       "      <td>http://elijah.biz</td>\n",
       "      <td>1</td>\n",
       "      <td>13-04-2023 08:04</td>\n",
       "      <td>yes</td>\n",
       "      <td>photo</td>\n",
       "    </tr>\n",
       "    <tr>\n",
       "      <th>1</th>\n",
       "      <td>2</td>\n",
       "      <td>https://shanon.org</td>\n",
       "      <td>1</td>\n",
       "      <td>13-04-2023 08:04</td>\n",
       "      <td>no</td>\n",
       "      <td>photo</td>\n",
       "    </tr>\n",
       "    <tr>\n",
       "      <th>2</th>\n",
       "      <td>3</td>\n",
       "      <td>http://vicky.biz</td>\n",
       "      <td>1</td>\n",
       "      <td>13-04-2023 08:04</td>\n",
       "      <td>no</td>\n",
       "      <td>photo</td>\n",
       "    </tr>\n",
       "    <tr>\n",
       "      <th>3</th>\n",
       "      <td>4</td>\n",
       "      <td>http://oleta.net</td>\n",
       "      <td>1</td>\n",
       "      <td>13-04-2023 08:04</td>\n",
       "      <td>no</td>\n",
       "      <td>photo</td>\n",
       "    </tr>\n",
       "    <tr>\n",
       "      <th>4</th>\n",
       "      <td>5</td>\n",
       "      <td>https://jennings.biz</td>\n",
       "      <td>1</td>\n",
       "      <td>13-04-2023 08:04</td>\n",
       "      <td>yes</td>\n",
       "      <td>photo</td>\n",
       "    </tr>\n",
       "    <tr>\n",
       "      <th>...</th>\n",
       "      <td>...</td>\n",
       "      <td>...</td>\n",
       "      <td>...</td>\n",
       "      <td>...</td>\n",
       "      <td>...</td>\n",
       "      <td>...</td>\n",
       "    </tr>\n",
       "    <tr>\n",
       "      <th>252</th>\n",
       "      <td>253</td>\n",
       "      <td>http://ryleigh.info</td>\n",
       "      <td>99</td>\n",
       "      <td>13-04-2023 08:04</td>\n",
       "      <td>yes</td>\n",
       "      <td>photo</td>\n",
       "    </tr>\n",
       "    <tr>\n",
       "      <th>253</th>\n",
       "      <td>254</td>\n",
       "      <td>https://darien.name</td>\n",
       "      <td>99</td>\n",
       "      <td>13-04-2023 08:04</td>\n",
       "      <td>no</td>\n",
       "      <td>carousel</td>\n",
       "    </tr>\n",
       "    <tr>\n",
       "      <th>254</th>\n",
       "      <td>255</td>\n",
       "      <td>https://xzavier.org</td>\n",
       "      <td>99</td>\n",
       "      <td>13-04-2023 08:04</td>\n",
       "      <td>no</td>\n",
       "      <td>video</td>\n",
       "    </tr>\n",
       "    <tr>\n",
       "      <th>255</th>\n",
       "      <td>256</td>\n",
       "      <td>https://kaela.name</td>\n",
       "      <td>100</td>\n",
       "      <td>13-04-2023 08:04</td>\n",
       "      <td>no</td>\n",
       "      <td>photo</td>\n",
       "    </tr>\n",
       "    <tr>\n",
       "      <th>256</th>\n",
       "      <td>257</td>\n",
       "      <td>http://dedrick.info</td>\n",
       "      <td>100</td>\n",
       "      <td>13-04-2023 08:04</td>\n",
       "      <td>yes</td>\n",
       "      <td>photo</td>\n",
       "    </tr>\n",
       "  </tbody>\n",
       "</table>\n",
       "<p>257 rows × 6 columns</p>\n",
       "</div>"
      ],
      "text/plain": [
       "      id            image link  user ID       created dat Insta filter used  \\\n",
       "0      1     http://elijah.biz        1  13-04-2023 08:04               yes   \n",
       "1      2    https://shanon.org        1  13-04-2023 08:04                no   \n",
       "2      3      http://vicky.biz        1  13-04-2023 08:04                no   \n",
       "3      4      http://oleta.net        1  13-04-2023 08:04                no   \n",
       "4      5  https://jennings.biz        1  13-04-2023 08:04               yes   \n",
       "..   ...                   ...      ...               ...               ...   \n",
       "252  253   http://ryleigh.info       99  13-04-2023 08:04               yes   \n",
       "253  254   https://darien.name       99  13-04-2023 08:04                no   \n",
       "254  255   https://xzavier.org       99  13-04-2023 08:04                no   \n",
       "255  256    https://kaela.name      100  13-04-2023 08:04                no   \n",
       "256  257   http://dedrick.info      100  13-04-2023 08:04               yes   \n",
       "\n",
       "    photo type  \n",
       "0        photo  \n",
       "1        photo  \n",
       "2        photo  \n",
       "3        photo  \n",
       "4        photo  \n",
       "..         ...  \n",
       "252      photo  \n",
       "253   carousel  \n",
       "254      video  \n",
       "255      photo  \n",
       "256      photo  \n",
       "\n",
       "[257 rows x 6 columns]"
      ]
     },
     "execution_count": 31,
     "metadata": {},
     "output_type": "execute_result"
    }
   ],
   "source": [
    "df_photos = pd.read_csv(r\"C:\\Users\\hp\\Downloads\\photos.csv\")\n",
    "df_photos"
   ]
  },
  {
   "cell_type": "code",
   "execution_count": 32,
   "id": "4f67982c-4a2b-44f0-bd1d-76e37ce488fc",
   "metadata": {},
   "outputs": [
    {
     "data": {
      "image/png": "[encoded data removed]",
      "text/plain": [
       "<Figure size 640x480 with 1 Axes>"
      ]
     },
     "metadata": {},
     "output_type": "display_data"
    }
   ],
   "source": [
    "df_photos[\"Insta filter used\"].value_counts().plot(kind=\"bar\", xlabel=\"Was Insta Filter Used\", ylabel=\"Count\")\n",
    "plt.show()"
   ]
  },
  {
   "cell_type": "raw",
   "id": "b9066cb2-5713-4530-8f53-f2ed8dc38be2",
   "metadata": {},
   "source": [
    "More people used an insta filter than not"
   ]
  },
  {
   "cell_type": "code",
   "execution_count": null,
   "id": "5f289f25-e4ad-4ffd-ab35-3ec0680742ab",
   "metadata": {},
   "outputs": [],
   "source": []
  }
 ],
 "metadata": {
  "kernelspec": {
   "display_name": "Python 3 (ipykernel)",
   "language": "python",
   "name": "python3"
  },
  "language_info": {
   "codemirror_mode": {
    "name": "ipython",
    "version": 3
   },
   "file_extension": ".py",
   "mimetype": "text/x-python",
   "name": "python",
   "nbconvert_exporter": "python",
   "pygments_lexer": "ipython3",
   "version": "3.12.5"
  }
 },
 "nbformat": 4,
 "nbformat_minor": 5
}
